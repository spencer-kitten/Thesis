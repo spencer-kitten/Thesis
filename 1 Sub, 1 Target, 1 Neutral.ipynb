{
 "cells": [
  {
   "cell_type": "code",
   "execution_count": 1,
   "metadata": {},
   "outputs": [],
   "source": [
    "import numpy as py\n",
    "import random as random\n",
    "import matplotlib.pyplot as plt\n",
    "\n",
    "\n",
    "from Coord import *\n",
    "from Submarine import *\n",
    "from Merchant_Ship import Merchant_Ship"
   ]
  },
  {
   "cell_type": "code",
   "execution_count": 2,
   "metadata": {},
   "outputs": [],
   "source": [
    "t = py.linspace(0,100, num = 1000)"
   ]
  },
  {
   "cell_type": "code",
   "execution_count": 3,
   "metadata": {},
   "outputs": [],
   "source": [
    "def generate_objects():\n",
    "    '''Generate objects'''\n",
    "    Target_1 = Merchant_Ship('Target_1', Coord(random.uniform(0,100),random.uniform(0,100)))\n",
    "    Hunter_1 = Submarine(Coord(random.uniform(0,100),100),crs = round(random.random())*180, spd = 16)\n",
    "    Neutral_1 = Merchant_Ship('Neutral_1', Coord(random.uniform(0,100),random.uniform(0,100)))\n",
    "    return Target_1, Hunter_1, Neutral_1"
   ]
  },
  {
   "cell_type": "code",
   "execution_count": 4,
   "metadata": {},
   "outputs": [],
   "source": [
    "Target_1, Hunter_1, Neutral_1 = generate_objects()"
   ]
  },
  {
   "cell_type": "code",
   "execution_count": 5,
   "metadata": {},
   "outputs": [],
   "source": [
    "def contact_picture():\n",
    "    '''Plots contact picture'''\n",
    "    plt.plot(Target_1.loc.lon,Target_1.loc.lat, 'ro')\n",
    "    plt.plot(Hunter_1.loc.lon,Hunter_1.loc.lat, 'go')\n",
    "    plt.plot(Neutral_1.loc.lon,Neutral_1.loc.lat, 'bo')\n",
    "    plt.xlim(0,200)\n",
    "    plt.ylim(0,100)"
   ]
  },
  {
   "cell_type": "code",
   "execution_count": 6,
   "metadata": {
    "scrolled": true
   },
   "outputs": [
    {
     "data": {
      "image/png": "[encoded data removed]",
      "text/plain": [
       "<Figure size 432x288 with 1 Axes>"
      ]
     },
     "metadata": {
      "needs_background": "light"
     },
     "output_type": "display_data"
    }
   ],
   "source": [
    "max_plot = 100\n",
    "for i in range(0,max_plot):\n",
    "    Target_1, Hunter_1, Neutral_1 = generate_objects()\n",
    "    contact_picture()"
   ]
  },
  {
   "cell_type": "code",
   "execution_count": 7,
   "metadata": {},
   "outputs": [],
   "source": [
    "#contact_picture()"
   ]
  },
  {
   "cell_type": "code",
   "execution_count": 8,
   "metadata": {},
   "outputs": [
    {
     "data": {
      "text/html": [
       "<div>\n",
       "<style scoped>\n",
       "    .dataframe tbody tr th:only-of-type {\n",
       "        vertical-align: middle;\n",
       "    }\n",
       "\n",
       "    .dataframe tbody tr th {\n",
       "        vertical-align: top;\n",
       "    }\n",
       "\n",
       "    .dataframe thead th {\n",
       "        text-align: right;\n",
       "    }\n",
       "</style>\n",
       "<table border=\"1\" class=\"dataframe\">\n",
       "  <thead>\n",
       "    <tr style=\"text-align: right;\">\n",
       "      <th></th>\n",
       "      <th>0</th>\n",
       "    </tr>\n",
       "  </thead>\n",
       "  <tbody>\n",
       "    <tr>\n",
       "      <th>0</th>\n",
       "      <td>0</td>\n",
       "    </tr>\n",
       "  </tbody>\n",
       "</table>\n",
       "</div>"
      ],
      "text/plain": [
       "   0\n",
       "0  0"
      ]
     },
     "execution_count": 8,
     "metadata": {},
     "output_type": "execute_result"
    },
    {
     "data": {
      "image/png": "[encoded data removed]",
      "text/plain": [
       "<Figure size 432x288 with 1 Axes>"
      ]
     },
     "metadata": {
      "needs_background": "light"
     },
     "output_type": "display_data"
    }
   ],
   "source": [
    "num_sims = 1\n",
    "detection_history = []\n",
    "\n",
    "\n",
    "for k in range(1,num_sims+1):\n",
    "    Target_1, Hunter_1, Neutral_1 = generate_objects()\n",
    "    target_list = [Target_1, Neutral_1]\n",
    "    j = 0\n",
    "    detected_targets = []\n",
    "    \n",
    "    while Target_1.loc.lon <= 200:\n",
    "        Neutral_1.update_position()\n",
    "        Target_1.update_position()\n",
    "        Hunter_1.update_position()\n",
    "        Hunter_1.ping(target_list)\n",
    "        \n",
    "        for item in Hunter_1.detections:\n",
    "            if item not in detected_targets:\n",
    "                detected_targets.append(item)\n",
    "    \n",
    "        j += 1\n",
    "        if j > 800:\n",
    "            contact_picture()\n",
    "            j = 0\n",
    "    \n",
    "    detection_history.append(len(detected_targets))\n",
    "    \n",
    "#contact_picture()\n",
    "#detection_history\n",
    "import pandas as pd\n",
    "detect = pd.DataFrame(detection_history)\n",
    "detect"
   ]
  },
  {
   "cell_type": "code",
   "execution_count": null,
   "metadata": {},
   "outputs": [],
   "source": [
    "\n",
    "\n"
   ]
  },
  {
   "cell_type": "code",
   "execution_count": null,
   "metadata": {},
   "outputs": [],
   "source": []
  },
  {
   "cell_type": "code",
   "execution_count": null,
   "metadata": {},
   "outputs": [],
   "source": [
    "############################ nothing below this works"
   ]
  },
  {
   "cell_type": "code",
   "execution_count": null,
   "metadata": {},
   "outputs": [],
   "source": []
  },
  {
   "cell_type": "code",
   "execution_count": 9,
   "metadata": {},
   "outputs": [],
   "source": [
    "def run_simulation(neutral = True, disp = False):\n",
    "    Target_1, Hunter_1, Neutral_1 = generate_objects()\n",
    "    target_list = [Target_1, Neutral_1]\n",
    "    j = 0\n",
    "    detected_targets = []\n",
    "    while Target_1.loc.lon <= 200:\n",
    "        if neutral == True:\n",
    "            Neutral_1.update_position()\n",
    "        Target_1.update_position()\n",
    "        Hunter_1.update_position()\n",
    "        Hunter_1.ping(target_list)\n",
    "\n",
    "        for item in Hunter_1.detections:\n",
    "            if item not in detected_targets:\n",
    "                detected_targets.append(item)\n",
    "\n",
    "        j += 1\n",
    "        if (j > 100) and (disp == True):\n",
    "            contact_picture()\n",
    "            j = 0\n",
    "    det = Hunter_1.detections\n",
    "    return det, Target_1, Hunter_1, Neutral_1"
   ]
  },
  {
   "cell_type": "code",
   "execution_count": 10,
   "metadata": {},
   "outputs": [],
   "source": [
    "nreps = 5\n",
    "det = []\n",
    "for i in range(1,nreps+1):\n",
    "    det.append(run_simulation())"
   ]
  },
  {
   "cell_type": "code",
   "execution_count": 11,
   "metadata": {},
   "outputs": [],
   "source": [
    "det1 = pd.DataFrame(det)"
   ]
  },
  {
   "cell_type": "code",
   "execution_count": 12,
   "metadata": {},
   "outputs": [],
   "source": [
    "count = 0\n",
    "for item in det:\n",
    "    if len(item) > 0:\n",
    "        count += 1"
   ]
  },
  {
   "cell_type": "code",
   "execution_count": 13,
   "metadata": {},
   "outputs": [
    {
     "data": {
      "text/plain": [
       "1.0"
      ]
     },
     "execution_count": 13,
     "metadata": {},
     "output_type": "execute_result"
    }
   ],
   "source": [
    "count/nreps"
   ]
  },
  {
   "cell_type": "code",
   "execution_count": 14,
   "metadata": {},
   "outputs": [],
   "source": [
    "nreps = 5\n",
    "det = []\n",
    "for i in range(1,nreps+1):\n",
    "    det.append(run_simulation(neutral = False))"
   ]
  },
  {
   "cell_type": "code",
   "execution_count": 15,
   "metadata": {},
   "outputs": [],
   "source": [
    "count = 0\n",
    "for item in det:\n",
    "    if len(item) > 0:\n",
    "        count += 1"
   ]
  },
  {
   "cell_type": "code",
   "execution_count": 16,
   "metadata": {},
   "outputs": [
    {
     "data": {
      "text/plain": [
       "1.0"
      ]
     },
     "execution_count": 16,
     "metadata": {},
     "output_type": "execute_result"
    }
   ],
   "source": [
    "count/nreps"
   ]
  },
  {
   "cell_type": "code",
   "execution_count": 17,
   "metadata": {},
   "outputs": [
    {
     "data": {
      "text/plain": [
       "([],\n",
       " <Merchant_Ship.Merchant_Ship at 0x19372a9cac0>,\n",
       " <Submarine.Submarine at 0x19372a9cc40>,\n",
       " <Merchant_Ship.Merchant_Ship at 0x19372a9cca0>)"
      ]
     },
     "execution_count": 17,
     "metadata": {},
     "output_type": "execute_result"
    },
    {
     "data": {
      "image/png": "[encoded data removed]",
      "text/plain": [
       "<Figure size 432x288 with 1 Axes>"
      ]
     },
     "metadata": {
      "needs_background": "light"
     },
     "output_type": "display_data"
    }
   ],
   "source": [
    "run_simulation(neutral = False, disp =True)"
   ]
  },
  {
   "cell_type": "code",
   "execution_count": null,
   "metadata": {},
   "outputs": [],
   "source": []
  },
  {
   "cell_type": "code",
   "execution_count": 18,
   "metadata": {},
   "outputs": [],
   "source": [
    "########################### multi target"
   ]
  },
  {
   "cell_type": "code",
   "execution_count": 21,
   "metadata": {},
   "outputs": [
    {
     "ename": "KeyboardInterrupt",
     "evalue": "",
     "output_type": "error",
     "traceback": [
      "\u001b[1;31m---------------------------------------------------------------------------\u001b[0m",
      "\u001b[1;31mKeyboardInterrupt\u001b[0m                         Traceback (most recent call last)",
      "\u001b[1;32m<ipython-input-21-997fc6e5ce49>\u001b[0m in \u001b[0;36m<module>\u001b[1;34m\u001b[0m\n\u001b[0;32m     14\u001b[0m         \u001b[0mTarget_2\u001b[0m\u001b[1;33m.\u001b[0m\u001b[0mupdate_position\u001b[0m\u001b[1;33m(\u001b[0m\u001b[1;33m)\u001b[0m\u001b[1;33m\u001b[0m\u001b[1;33m\u001b[0m\u001b[0m\n\u001b[0;32m     15\u001b[0m         \u001b[0mHunter_1\u001b[0m\u001b[1;33m.\u001b[0m\u001b[0mupdate_position\u001b[0m\u001b[1;33m(\u001b[0m\u001b[1;33m)\u001b[0m\u001b[1;33m\u001b[0m\u001b[1;33m\u001b[0m\u001b[0m\n\u001b[1;32m---> 16\u001b[1;33m         \u001b[0mHunter_1\u001b[0m\u001b[1;33m.\u001b[0m\u001b[0mping\u001b[0m\u001b[1;33m(\u001b[0m\u001b[0mtarget_list\u001b[0m\u001b[1;33m)\u001b[0m\u001b[1;33m\u001b[0m\u001b[1;33m\u001b[0m\u001b[0m\n\u001b[0m\u001b[0;32m     17\u001b[0m \u001b[1;33m\u001b[0m\u001b[0m\n\u001b[0;32m     18\u001b[0m         \u001b[1;32mfor\u001b[0m \u001b[0mitem\u001b[0m \u001b[1;32min\u001b[0m \u001b[0mHunter_1\u001b[0m\u001b[1;33m.\u001b[0m\u001b[0mdetections\u001b[0m\u001b[1;33m:\u001b[0m\u001b[1;33m\u001b[0m\u001b[1;33m\u001b[0m\u001b[0m\n",
      "\u001b[1;32m~\\Documents\\NPS\\Thesis\\Submarine.py\u001b[0m in \u001b[0;36mping\u001b[1;34m(self, target_list)\u001b[0m\n\u001b[0;32m     93\u001b[0m \u001b[1;33m\u001b[0m\u001b[0m\n\u001b[0;32m     94\u001b[0m         \u001b[1;32mfor\u001b[0m \u001b[0mtargets\u001b[0m \u001b[1;32min\u001b[0m \u001b[0mtarget_list\u001b[0m\u001b[1;33m:\u001b[0m\u001b[1;33m\u001b[0m\u001b[1;33m\u001b[0m\u001b[0m\n\u001b[1;32m---> 95\u001b[1;33m             \u001b[0mdistance\u001b[0m \u001b[1;33m=\u001b[0m \u001b[0mself\u001b[0m\u001b[1;33m.\u001b[0m\u001b[0mloc\u001b[0m\u001b[1;33m.\u001b[0m\u001b[0mdist_to\u001b[0m\u001b[1;33m(\u001b[0m\u001b[0mtargets\u001b[0m\u001b[1;33m.\u001b[0m\u001b[0mloc\u001b[0m\u001b[1;33m)\u001b[0m\u001b[1;33m\u001b[0m\u001b[1;33m\u001b[0m\u001b[0m\n\u001b[0m\u001b[0;32m     96\u001b[0m \u001b[1;33m\u001b[0m\u001b[0m\n\u001b[0;32m     97\u001b[0m             \u001b[1;32mif\u001b[0m \u001b[0mdistance\u001b[0m \u001b[1;33m<\u001b[0m \u001b[0mping_range\u001b[0m\u001b[1;33m:\u001b[0m\u001b[1;33m\u001b[0m\u001b[1;33m\u001b[0m\u001b[0m\n",
      "\u001b[1;31mKeyboardInterrupt\u001b[0m: "
     ]
    },
    {
     "data": {
      "image/png": "[encoded data removed]",
      "text/plain": [
       "<Figure size 432x288 with 1 Axes>"
      ]
     },
     "metadata": {
      "needs_background": "light"
     },
     "output_type": "display_data"
    }
   ],
   "source": [
    "num_sims = 1\n",
    "detection_history = []\n",
    "\n",
    "\n",
    "for k in range(1,num_sims+1):\n",
    "    Target_1, Hunter_1, Neutral_1 = generate_objects()\n",
    "    Target_2 = Merchant_Ship('Target_2', Coord(random.uniform(0,100),random.uniform(0,100)))\n",
    "    target_list = [Target_1, Target_2]\n",
    "    j = 0\n",
    "    detected_targets = []\n",
    "    \n",
    "    while Hunter_1.loc.lon <= 200:\n",
    "        Target_1.update_position()\n",
    "        Target_2.update_position()\n",
    "        Hunter_1.update_position()\n",
    "        Hunter_1.ping(target_list)\n",
    "        \n",
    "        for item in Hunter_1.detections:\n",
    "            if item not in detected_targets:\n",
    "                detected_targets.append(item)\n",
    "    \n",
    "        j += 1\n",
    "        if j > 800:\n",
    "            plt.plot(Target_1.loc.lon,Target_1.loc.lat, 'ro')\n",
    "            plt.plot(Hunter_1.loc.lon,Hunter_1.loc.lat, 'go')\n",
    "            plt.plot(Neutral_1.loc.lon,Neutral_1.loc.lat, 'bo')\n",
    "            plt.xlim(0,200)\n",
    "            plt.ylim(0,100)\n",
    "            j = 0\n",
    "    \n",
    "    detection_history.append(len(detected_targets))\n",
    "    \n",
    "#contact_picture()\n",
    "#detection_history\n",
    "import pandas as pd\n",
    "detect = pd.DataFrame(detection_history)\n",
    "detect"
   ]
  },
  {
   "cell_type": "code",
   "execution_count": null,
   "metadata": {},
   "outputs": [],
   "source": []
  },
  {
   "cell_type": "code",
   "execution_count": null,
   "metadata": {},
   "outputs": [],
   "source": []
  }
 ],
 "metadata": {
  "kernelspec": {
   "display_name": "Python 3",
   "language": "python",
   "name": "python3"
  },
  "language_info": {
   "codemirror_mode": {
    "name": "ipython",
    "version": 3
   },
   "file_extension": ".py",
   "mimetype": "text/x-python",
   "name": "python",
   "nbconvert_exporter": "python",
   "pygments_lexer": "ipython3",
   "version": "3.8.5"
  }
 },
 "nbformat": 4,
 "nbformat_minor": 4
}
