{
 "cells": [
  {
   "cell_type": "code",
   "execution_count": 4,
   "metadata": {},
   "outputs": [],
   "source": [
    "import pandas as pd\n",
    "import numpy as np\n",
    "import os"
   ]
  },
  {
   "cell_type": "code",
   "execution_count": 18,
   "metadata": {
    "scrolled": false
   },
   "outputs": [],
   "source": [
    "def data_prep(target):\n",
    "    start = 'C:\\\\Users\\\\spenc\\\\Documents\\\\GitHub\\\\Thesis\\\\data'\n",
    "    rootdir = start + target\n",
    "\n",
    "    os.chdir(rootdir)\n",
    "    columns = ['n_targets', 'n_merchants', 'n_submarines', 'seeds', 'max_samples','speed_sub','P_k','Lam_T','Lam_M','speed_target']\n",
    "    parameters = pd.read_csv('test-jobs.csv', index_col= 0, header = None)\n",
    "    outfile = pd.DataFrame()\n",
    "\n",
    "    for filename in os.listdir(rootdir):\n",
    "        f = os.path.join(rootdir, filename)\n",
    "\n",
    "        # checking to ensure experiment file\n",
    "        if (f[-5] != 's') & os.path.isfile(f):\n",
    "            KTdf = pd.read_csv(f,index_col= None)\n",
    "            KTdf.drop('Unnamed: 0',axis = 1, inplace = True)\n",
    "            KTdf.astype(float)\n",
    "            KTdf = KTdf.mean(axis = 0)\n",
    "            working = parameters.loc[int(f[74:-4])]\n",
    "            working.index = columns\n",
    "            out = pd.concat([KTdf.T, working.T],axis = 0)\n",
    "\n",
    "        outfile = pd.concat([outfile, out],axis = 1)\n",
    "\n",
    "    outfile.columns = list(range(1,len(outfile.columns)+1))\n",
    "    outfile = outfile.T\n",
    "    os.chdir(start)\n",
    "    outfile.to_csv('outfile.csv')\n",
    "    \n",
    "    return "
   ]
  },
  {
   "cell_type": "code",
   "execution_count": 19,
   "metadata": {},
   "outputs": [],
   "source": [
    "data_prep('\\Interfering_NC')"
   ]
  },
  {
   "cell_type": "code",
   "execution_count": null,
   "metadata": {},
   "outputs": [],
   "source": []
  },
  {
   "cell_type": "code",
   "execution_count": null,
   "metadata": {},
   "outputs": [],
   "source": []
  },
  {
   "cell_type": "code",
   "execution_count": null,
   "metadata": {},
   "outputs": [],
   "source": []
  }
 ],
 "metadata": {
  "kernelspec": {
   "display_name": "Python 3",
   "language": "python",
   "name": "python3"
  },
  "language_info": {
   "codemirror_mode": {
    "name": "ipython",
    "version": 3
   },
   "file_extension": ".py",
   "mimetype": "text/x-python",
   "name": "python",
   "nbconvert_exporter": "python",
   "pygments_lexer": "ipython3",
   "version": "3.8.5"
  }
 },
 "nbformat": 4,
 "nbformat_minor": 4
}
