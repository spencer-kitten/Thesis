{
 "cells": [
  {
   "cell_type": "code",
   "execution_count": 1,
   "metadata": {},
   "outputs": [],
   "source": [
    "import numpy as py\n",
    "import random as random\n",
    "import matplotlib.pyplot as plt\n",
    "import pandas as pd\n",
    "from scipy import stats\n",
    "from scipy.stats import t\n",
    "import math\n",
    "import time\n",
    "import imageio\n",
    "import os\n",
    "\n",
    "from Coord import *\n",
    "from Submarine import *\n",
    "from Merchant_Ship import Merchant_Ship\n",
    "from twitter_acces import *"
   ]
  },
  {
   "cell_type": "code",
   "execution_count": 10,
   "metadata": {},
   "outputs": [],
   "source": [
    "def generate_objects(n_merch,n_tgts,n_subs,speed_sub, Targets = [], Merchants = []):\n",
    "    '''Generates a requested number of merchants, targets, and submarines. Submarine speed may be specified.'''\n",
    "\n",
    "    # Lambda for interarrival\n",
    "    ld = (24*3600)/10\n",
    "\n",
    "    # Target name builder\n",
    "    try:\n",
    "        starting_int = Targets[-1].name \n",
    "        starting_int = int(starting_int[-1])\n",
    "    except:\n",
    "        starting_int = 0\n",
    "    tgt_name = 'Target_'\n",
    "    tgt_names = []\n",
    "    for i in range(starting_int + 1,n_tgts+starting_int+1):\n",
    "        tgt_names.append(tgt_name + str(i))\n",
    "\n",
    "    # Target builder\n",
    "    time_delay = 0\n",
    "    for i in tgt_names:\n",
    "        Targets.append(Merchant_Ship(i, Coord(random.uniform(0,100),0),time_delay))\n",
    "        time_delay += py.random.exponential(ld)\n",
    "\n",
    "    # Merchant name builder\n",
    "    try:\n",
    "        starting_int = Merchants[-1].name \n",
    "        starting_int = int(starting_int[-1])\n",
    "    except:\n",
    "        starting_int = 0\n",
    "    merch_name = 'Merchant_'\n",
    "    merch_names = []\n",
    "    for i in range(starting_int + 1,n_merch+starting_int+1):\n",
    "        merch_names.append(merch_name + str(i))\n",
    "\n",
    "    # Merchant builder\n",
    "    time_delay = 0\n",
    "    for j in merch_names:\n",
    "        Merchants.append(Merchant_Ship(j, Coord(random.uniform(0,100),0),time_delay))\n",
    "        time_delay += py.random.exponential(ld)\n",
    "\n",
    "    # Submarine name builder\n",
    "    sub_name = 'Hunter_'\n",
    "    sub_names = []\n",
    "    for i in range(1,n_subs+1):\n",
    "        sub_names.append(sub_name + str(i))\n",
    "\n",
    "    # Submarine builder\n",
    "    Submarines = []\n",
    "    indexer = 1\n",
    "    for i in sub_names:\n",
    "        location = Coord(random.uniform(0,100),100 + 200*(indexer-1))\n",
    "        course = round(random.random())*180\n",
    "        Submarines.append(Submarine(location,crs = course, spd = speed_sub, index = indexer))\n",
    "        indexer += 1\n",
    "\n",
    "    return Targets,Merchants,Submarines"
   ]
  },
  {
   "cell_type": "code",
   "execution_count": 11,
   "metadata": {},
   "outputs": [],
   "source": [
    "Targets,Merchants,Submarines = generate_objects(1,1,1,12)\n"
   ]
  },
  {
   "cell_type": "code",
   "execution_count": 12,
   "metadata": {},
   "outputs": [
    {
     "data": {
      "text/plain": [
       "[<Merchant_Ship.Merchant_Ship at 0x23e7f7a94c0>]"
      ]
     },
     "execution_count": 12,
     "metadata": {},
     "output_type": "execute_result"
    }
   ],
   "source": [
    "test = Targets\n",
    "test"
   ]
  },
  {
   "cell_type": "code",
   "execution_count": 13,
   "metadata": {},
   "outputs": [
    {
     "data": {
      "text/plain": [
       "[<Merchant_Ship.Merchant_Ship at 0x23e7f7a94c0>,\n",
       " <Merchant_Ship.Merchant_Ship at 0x23e7a332700>]"
      ]
     },
     "execution_count": 13,
     "metadata": {},
     "output_type": "execute_result"
    }
   ],
   "source": [
    "Targets,Merchants,Submarines = generate_objects(1,1,1,12,Targets = test)\n",
    "Targets"
   ]
  },
  {
   "cell_type": "code",
   "execution_count": 14,
   "metadata": {},
   "outputs": [
    {
     "name": "stdout",
     "output_type": "stream",
     "text": [
      "Target_1\n",
      "Target_2\n"
     ]
    },
    {
     "data": {
      "text/plain": [
       "[<Merchant_Ship.Merchant_Ship at 0x23e7f7a94c0>,\n",
       " <Merchant_Ship.Merchant_Ship at 0x23e7a332700>]"
      ]
     },
     "execution_count": 14,
     "metadata": {},
     "output_type": "execute_result"
    }
   ],
   "source": [
    "for i in Targets:\n",
    "    print(i.name)\n",
    "test = Targets\n",
    "test"
   ]
  },
  {
   "cell_type": "code",
   "execution_count": 15,
   "metadata": {},
   "outputs": [
    {
     "data": {
      "text/plain": [
       "[<Merchant_Ship.Merchant_Ship at 0x23e7f7a94c0>,\n",
       " <Merchant_Ship.Merchant_Ship at 0x23e7a332700>,\n",
       " <Merchant_Ship.Merchant_Ship at 0x23e7f7a99d0>]"
      ]
     },
     "execution_count": 15,
     "metadata": {},
     "output_type": "execute_result"
    }
   ],
   "source": [
    "test = Targets\n",
    "test\n",
    "Targets,Merchants,Submarines = generate_objects(1,1,1,12,Targets = test)\n",
    "Targets"
   ]
  },
  {
   "cell_type": "code",
   "execution_count": 16,
   "metadata": {},
   "outputs": [
    {
     "name": "stdout",
     "output_type": "stream",
     "text": [
      "Target_1\n",
      "Target_2\n",
      "Target_3\n"
     ]
    }
   ],
   "source": [
    "for i in Targets:\n",
    "    print(i.name)"
   ]
  },
  {
   "cell_type": "code",
   "execution_count": 9,
   "metadata": {},
   "outputs": [
    {
     "data": {
      "text/plain": [
       "[]"
      ]
     },
     "execution_count": 9,
     "metadata": {},
     "output_type": "execute_result"
    }
   ],
   "source": [
    "Targets = []\n",
    "test = []\n",
    "Targets "
   ]
  },
  {
   "cell_type": "code",
   "execution_count": null,
   "metadata": {},
   "outputs": [],
   "source": []
  }
 ],
 "metadata": {
  "kernelspec": {
   "display_name": "Python 3",
   "language": "python",
   "name": "python3"
  },
  "language_info": {
   "codemirror_mode": {
    "name": "ipython",
    "version": 3
   },
   "file_extension": ".py",
   "mimetype": "text/x-python",
   "name": "python",
   "nbconvert_exporter": "python",
   "pygments_lexer": "ipython3",
   "version": "3.8.5"
  }
 },
 "nbformat": 4,
 "nbformat_minor": 4
}
