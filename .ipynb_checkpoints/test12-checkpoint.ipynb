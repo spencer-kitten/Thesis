{
 "cells": [
  {
   "cell_type": "code",
   "execution_count": 1,
   "metadata": {},
   "outputs": [],
   "source": [
    "from Simulator import *\n",
    "from RUN import RUN"
   ]
  },
  {
   "cell_type": "code",
   "execution_count": 2,
   "metadata": {},
   "outputs": [
    {
     "name": "stdout",
     "output_type": "stream",
     "text": [
      "Run 1 complete\n"
     ]
    },
    {
     "data": {
      "text/plain": [
       "<Figure size 432x288 with 0 Axes>"
      ]
     },
     "metadata": {},
     "output_type": "display_data"
    }
   ],
   "source": [
    "job_num = 1\n",
    "n_targets = 30\n",
    "n_merchants = 1\n",
    "n_submarines = 10\n",
    "P_k = 0.9\n",
    "speed_sub = 16\n",
    "Lam_T = 1\n",
    "Lam_M = 199\n",
    "speed_target = 12\n",
    "seed = 1\n",
    "max_time = 1\n",
    "plots = False\n",
    "gif = False\n",
    "max_samples = 1\n",
    "RUN(job_num, n_targets, n_merchants, n_submarines, seed, max_samples,speed_sub,P_k,Lam_T,Lam_M,speed_target)"
   ]
  },
  {
   "cell_type": "code",
   "execution_count": 17,
   "metadata": {},
   "outputs": [
    {
     "data": {
      "text/html": [
       "<div>\n",
       "<style scoped>\n",
       "    .dataframe tbody tr th:only-of-type {\n",
       "        vertical-align: middle;\n",
       "    }\n",
       "\n",
       "    .dataframe tbody tr th {\n",
       "        vertical-align: top;\n",
       "    }\n",
       "\n",
       "    .dataframe thead th {\n",
       "        text-align: right;\n",
       "    }\n",
       "</style>\n",
       "<table border=\"1\" class=\"dataframe\">\n",
       "  <thead>\n",
       "    <tr style=\"text-align: right;\">\n",
       "      <th></th>\n",
       "      <th>Unnamed: 0</th>\n",
       "      <th>1 kills</th>\n",
       "      <th>1 tracking</th>\n",
       "      <th>2 kills</th>\n",
       "      <th>2 tracking</th>\n",
       "      <th>3 kills</th>\n",
       "      <th>3 tracking</th>\n",
       "      <th>4 kills</th>\n",
       "      <th>4 tracking</th>\n",
       "      <th>5 kills</th>\n",
       "      <th>...</th>\n",
       "      <th>6 kills</th>\n",
       "      <th>6 tracking</th>\n",
       "      <th>7 kills</th>\n",
       "      <th>7 tracking</th>\n",
       "      <th>8 kills</th>\n",
       "      <th>8 tracking</th>\n",
       "      <th>9 kills</th>\n",
       "      <th>9 tracking</th>\n",
       "      <th>10 kills</th>\n",
       "      <th>10 tracking</th>\n",
       "    </tr>\n",
       "  </thead>\n",
       "  <tbody>\n",
       "    <tr>\n",
       "      <th>0</th>\n",
       "      <td>0</td>\n",
       "      <td>2318</td>\n",
       "      <td>19298</td>\n",
       "      <td>1241</td>\n",
       "      <td>117310</td>\n",
       "      <td>654</td>\n",
       "      <td>193107</td>\n",
       "      <td>306</td>\n",
       "      <td>166209</td>\n",
       "      <td>192</td>\n",
       "      <td>...</td>\n",
       "      <td>134</td>\n",
       "      <td>1648791</td>\n",
       "      <td>71</td>\n",
       "      <td>443107</td>\n",
       "      <td>73</td>\n",
       "      <td>606687</td>\n",
       "      <td>63</td>\n",
       "      <td>2413774</td>\n",
       "      <td>33</td>\n",
       "      <td>752248</td>\n",
       "    </tr>\n",
       "    <tr>\n",
       "      <th>1</th>\n",
       "      <td>1</td>\n",
       "      <td>2318</td>\n",
       "      <td>38302</td>\n",
       "      <td>1241</td>\n",
       "      <td>41848</td>\n",
       "      <td>654</td>\n",
       "      <td>229437</td>\n",
       "      <td>306</td>\n",
       "      <td>473035</td>\n",
       "      <td>192</td>\n",
       "      <td>...</td>\n",
       "      <td>134</td>\n",
       "      <td>170258</td>\n",
       "      <td>71</td>\n",
       "      <td>360969</td>\n",
       "      <td>73</td>\n",
       "      <td>2688590</td>\n",
       "      <td>63</td>\n",
       "      <td>1077395</td>\n",
       "      <td>33</td>\n",
       "      <td>2290298</td>\n",
       "    </tr>\n",
       "    <tr>\n",
       "      <th>2</th>\n",
       "      <td>2</td>\n",
       "      <td>2318</td>\n",
       "      <td>5401</td>\n",
       "      <td>1241</td>\n",
       "      <td>7158</td>\n",
       "      <td>654</td>\n",
       "      <td>29455</td>\n",
       "      <td>306</td>\n",
       "      <td>129584</td>\n",
       "      <td>192</td>\n",
       "      <td>...</td>\n",
       "      <td>134</td>\n",
       "      <td>65993</td>\n",
       "      <td>71</td>\n",
       "      <td>685328</td>\n",
       "      <td>73</td>\n",
       "      <td>187640</td>\n",
       "      <td>63</td>\n",
       "      <td>7353608</td>\n",
       "      <td>33</td>\n",
       "      <td>7801</td>\n",
       "    </tr>\n",
       "    <tr>\n",
       "      <th>3</th>\n",
       "      <td>3</td>\n",
       "      <td>2318</td>\n",
       "      <td>4966</td>\n",
       "      <td>1241</td>\n",
       "      <td>35559</td>\n",
       "      <td>654</td>\n",
       "      <td>114275</td>\n",
       "      <td>306</td>\n",
       "      <td>297970</td>\n",
       "      <td>192</td>\n",
       "      <td>...</td>\n",
       "      <td>134</td>\n",
       "      <td>171130</td>\n",
       "      <td>71</td>\n",
       "      <td>432878</td>\n",
       "      <td>73</td>\n",
       "      <td>68499</td>\n",
       "      <td>63</td>\n",
       "      <td>1272513</td>\n",
       "      <td>33</td>\n",
       "      <td>1528387</td>\n",
       "    </tr>\n",
       "    <tr>\n",
       "      <th>4</th>\n",
       "      <td>4</td>\n",
       "      <td>2318</td>\n",
       "      <td>11086</td>\n",
       "      <td>1241</td>\n",
       "      <td>19399</td>\n",
       "      <td>654</td>\n",
       "      <td>129428</td>\n",
       "      <td>306</td>\n",
       "      <td>191455</td>\n",
       "      <td>192</td>\n",
       "      <td>...</td>\n",
       "      <td>134</td>\n",
       "      <td>177717</td>\n",
       "      <td>71</td>\n",
       "      <td>870863</td>\n",
       "      <td>73</td>\n",
       "      <td>1621422</td>\n",
       "      <td>63</td>\n",
       "      <td>529186</td>\n",
       "      <td>33</td>\n",
       "      <td>536659</td>\n",
       "    </tr>\n",
       "    <tr>\n",
       "      <th>...</th>\n",
       "      <td>...</td>\n",
       "      <td>...</td>\n",
       "      <td>...</td>\n",
       "      <td>...</td>\n",
       "      <td>...</td>\n",
       "      <td>...</td>\n",
       "      <td>...</td>\n",
       "      <td>...</td>\n",
       "      <td>...</td>\n",
       "      <td>...</td>\n",
       "      <td>...</td>\n",
       "      <td>...</td>\n",
       "      <td>...</td>\n",
       "      <td>...</td>\n",
       "      <td>...</td>\n",
       "      <td>...</td>\n",
       "      <td>...</td>\n",
       "      <td>...</td>\n",
       "      <td>...</td>\n",
       "      <td>...</td>\n",
       "      <td>...</td>\n",
       "    </tr>\n",
       "    <tr>\n",
       "      <th>15068</th>\n",
       "      <td>412</td>\n",
       "      <td>832</td>\n",
       "      <td>85226</td>\n",
       "      <td>0</td>\n",
       "      <td>0</td>\n",
       "      <td>0</td>\n",
       "      <td>0</td>\n",
       "      <td>0</td>\n",
       "      <td>0</td>\n",
       "      <td>0</td>\n",
       "      <td>...</td>\n",
       "      <td>0</td>\n",
       "      <td>0</td>\n",
       "      <td>0</td>\n",
       "      <td>0</td>\n",
       "      <td>0</td>\n",
       "      <td>0</td>\n",
       "      <td>0</td>\n",
       "      <td>0</td>\n",
       "      <td>0</td>\n",
       "      <td>0</td>\n",
       "    </tr>\n",
       "    <tr>\n",
       "      <th>15069</th>\n",
       "      <td>413</td>\n",
       "      <td>832</td>\n",
       "      <td>45007</td>\n",
       "      <td>0</td>\n",
       "      <td>0</td>\n",
       "      <td>0</td>\n",
       "      <td>0</td>\n",
       "      <td>0</td>\n",
       "      <td>0</td>\n",
       "      <td>0</td>\n",
       "      <td>...</td>\n",
       "      <td>0</td>\n",
       "      <td>0</td>\n",
       "      <td>0</td>\n",
       "      <td>0</td>\n",
       "      <td>0</td>\n",
       "      <td>0</td>\n",
       "      <td>0</td>\n",
       "      <td>0</td>\n",
       "      <td>0</td>\n",
       "      <td>0</td>\n",
       "    </tr>\n",
       "    <tr>\n",
       "      <th>15070</th>\n",
       "      <td>414</td>\n",
       "      <td>832</td>\n",
       "      <td>79661</td>\n",
       "      <td>0</td>\n",
       "      <td>0</td>\n",
       "      <td>0</td>\n",
       "      <td>0</td>\n",
       "      <td>0</td>\n",
       "      <td>0</td>\n",
       "      <td>0</td>\n",
       "      <td>...</td>\n",
       "      <td>0</td>\n",
       "      <td>0</td>\n",
       "      <td>0</td>\n",
       "      <td>0</td>\n",
       "      <td>0</td>\n",
       "      <td>0</td>\n",
       "      <td>0</td>\n",
       "      <td>0</td>\n",
       "      <td>0</td>\n",
       "      <td>0</td>\n",
       "    </tr>\n",
       "    <tr>\n",
       "      <th>15071</th>\n",
       "      <td>415</td>\n",
       "      <td>832</td>\n",
       "      <td>73415</td>\n",
       "      <td>0</td>\n",
       "      <td>0</td>\n",
       "      <td>0</td>\n",
       "      <td>0</td>\n",
       "      <td>0</td>\n",
       "      <td>0</td>\n",
       "      <td>0</td>\n",
       "      <td>...</td>\n",
       "      <td>0</td>\n",
       "      <td>0</td>\n",
       "      <td>0</td>\n",
       "      <td>0</td>\n",
       "      <td>0</td>\n",
       "      <td>0</td>\n",
       "      <td>0</td>\n",
       "      <td>0</td>\n",
       "      <td>0</td>\n",
       "      <td>0</td>\n",
       "    </tr>\n",
       "    <tr>\n",
       "      <th>15072</th>\n",
       "      <td>416</td>\n",
       "      <td>832</td>\n",
       "      <td>108281</td>\n",
       "      <td>0</td>\n",
       "      <td>0</td>\n",
       "      <td>0</td>\n",
       "      <td>0</td>\n",
       "      <td>0</td>\n",
       "      <td>0</td>\n",
       "      <td>0</td>\n",
       "      <td>...</td>\n",
       "      <td>0</td>\n",
       "      <td>0</td>\n",
       "      <td>0</td>\n",
       "      <td>0</td>\n",
       "      <td>0</td>\n",
       "      <td>0</td>\n",
       "      <td>0</td>\n",
       "      <td>0</td>\n",
       "      <td>0</td>\n",
       "      <td>0</td>\n",
       "    </tr>\n",
       "  </tbody>\n",
       "</table>\n",
       "<p>15073 rows × 21 columns</p>\n",
       "</div>"
      ],
      "text/plain": [
       "       Unnamed: 0  1 kills  1 tracking  2 kills  2 tracking  3 kills  \\\n",
       "0               0     2318       19298     1241      117310      654   \n",
       "1               1     2318       38302     1241       41848      654   \n",
       "2               2     2318        5401     1241        7158      654   \n",
       "3               3     2318        4966     1241       35559      654   \n",
       "4               4     2318       11086     1241       19399      654   \n",
       "...           ...      ...         ...      ...         ...      ...   \n",
       "15068         412      832       85226        0           0        0   \n",
       "15069         413      832       45007        0           0        0   \n",
       "15070         414      832       79661        0           0        0   \n",
       "15071         415      832       73415        0           0        0   \n",
       "15072         416      832      108281        0           0        0   \n",
       "\n",
       "       3 tracking  4 kills  4 tracking  5 kills  ...  6 kills  6 tracking  \\\n",
       "0          193107      306      166209      192  ...      134     1648791   \n",
       "1          229437      306      473035      192  ...      134      170258   \n",
       "2           29455      306      129584      192  ...      134       65993   \n",
       "3          114275      306      297970      192  ...      134      171130   \n",
       "4          129428      306      191455      192  ...      134      177717   \n",
       "...           ...      ...         ...      ...  ...      ...         ...   \n",
       "15068           0        0           0        0  ...        0           0   \n",
       "15069           0        0           0        0  ...        0           0   \n",
       "15070           0        0           0        0  ...        0           0   \n",
       "15071           0        0           0        0  ...        0           0   \n",
       "15072           0        0           0        0  ...        0           0   \n",
       "\n",
       "       7 kills  7 tracking  8 kills  8 tracking  9 kills  9 tracking  \\\n",
       "0           71      443107       73      606687       63     2413774   \n",
       "1           71      360969       73     2688590       63     1077395   \n",
       "2           71      685328       73      187640       63     7353608   \n",
       "3           71      432878       73       68499       63     1272513   \n",
       "4           71      870863       73     1621422       63      529186   \n",
       "...        ...         ...      ...         ...      ...         ...   \n",
       "15068        0           0        0           0        0           0   \n",
       "15069        0           0        0           0        0           0   \n",
       "15070        0           0        0           0        0           0   \n",
       "15071        0           0        0           0        0           0   \n",
       "15072        0           0        0           0        0           0   \n",
       "\n",
       "       10 kills  10 tracking  \n",
       "0            33       752248  \n",
       "1            33      2290298  \n",
       "2            33         7801  \n",
       "3            33      1528387  \n",
       "4            33       536659  \n",
       "...         ...          ...  \n",
       "15068         0            0  \n",
       "15069         0            0  \n",
       "15070         0            0  \n",
       "15071         0            0  \n",
       "15072         0            0  \n",
       "\n",
       "[15073 rows x 21 columns]"
      ]
     },
     "execution_count": 17,
     "metadata": {},
     "output_type": "execute_result"
    }
   ],
   "source": [
    "Killed_Targets = pd.read_csv('Killed_Targets.csv')\n",
    "Killed_Targets"
   ]
  },
  {
   "cell_type": "code",
   "execution_count": 18,
   "metadata": {},
   "outputs": [],
   "source": [
    "Killed_Targets = Killed_Targets.drop(columns = 'Unnamed: 0')"
   ]
  },
  {
   "cell_type": "code",
   "execution_count": 19,
   "metadata": {},
   "outputs": [
    {
     "data": {
      "text/plain": [
       "<AxesSubplot:>"
      ]
     },
     "execution_count": 19,
     "metadata": {},
     "output_type": "execute_result"
    },
    {
     "data": {
      "image/png": "[encoded data removed]",
      "text/plain": [
       "<Figure size 432x288 with 1 Axes>"
      ]
     },
     "metadata": {
      "needs_background": "light"
     },
     "output_type": "display_data"
    }
   ],
   "source": [
    "Killed_Targets[Killed_Targets.columns[::2]].mean().cumsum().plot()"
   ]
  },
  {
   "cell_type": "code",
   "execution_count": 21,
   "metadata": {},
   "outputs": [
    {
     "data": {
      "text/plain": [
       "<AxesSubplot:>"
      ]
     },
     "execution_count": 21,
     "metadata": {},
     "output_type": "execute_result"
    },
    {
     "data": {
      "image/png": "[encoded data removed]",
      "text/plain": [
       "<Figure size 432x288 with 1 Axes>"
      ]
     },
     "metadata": {
      "needs_background": "light"
     },
     "output_type": "display_data"
    }
   ],
   "source": [
    "Killed_Targets[Killed_Targets.columns[1::2]].median().plot()"
   ]
  },
  {
   "cell_type": "code",
   "execution_count": 7,
   "metadata": {},
   "outputs": [],
   "source": [
    "# test function"
   ]
  },
  {
   "cell_type": "code",
   "execution_count": 9,
   "metadata": {},
   "outputs": [],
   "source": [
    "A = Coord(0,0)\n",
    "B = Coord(10,10)\n",
    "spd_A = 10\n",
    "spd_B = 12"
   ]
  },
  {
   "cell_type": "code",
   "execution_count": 10,
   "metadata": {},
   "outputs": [],
   "source": [
    "def interdiction(A,spd_A,B,spd_B):\n",
    "    beta = 270-A.bearing(B)\n",
    "    # alpha is angle between bearing to target and course taken to interception point\n",
    "    alpha          = math.asin((spd_B/spd_A)*math.sin(beta))*(180/math.pi)\n",
    "    gamma          = 180 - alpha - beta\n",
    "    D_t            = A.dist_to(B)\n",
    "    time_interdict = (math.sin(beta)/math.sin(gamma))*D_t*(1/math.sin(spd_A))\n",
    "    \n",
    "    return alpha, time_interdict\n",
    "    "
   ]
  },
  {
   "cell_type": "code",
   "execution_count": 11,
   "metadata": {},
   "outputs": [
    {
     "ename": "ValueError",
     "evalue": "math domain error",
     "output_type": "error",
     "traceback": [
      "\u001b[1;31m---------------------------------------------------------------------------\u001b[0m",
      "\u001b[1;31mValueError\u001b[0m                                Traceback (most recent call last)",
      "\u001b[1;32m<ipython-input-11-a3e6e3617823>\u001b[0m in \u001b[0;36m<module>\u001b[1;34m\u001b[0m\n\u001b[1;32m----> 1\u001b[1;33m \u001b[0minterdiction\u001b[0m\u001b[1;33m(\u001b[0m\u001b[0mA\u001b[0m\u001b[1;33m,\u001b[0m\u001b[0mspd_A\u001b[0m\u001b[1;33m,\u001b[0m\u001b[0mB\u001b[0m\u001b[1;33m,\u001b[0m\u001b[0mspd_B\u001b[0m\u001b[1;33m)\u001b[0m\u001b[1;33m\u001b[0m\u001b[1;33m\u001b[0m\u001b[0m\n\u001b[0m",
      "\u001b[1;32m<ipython-input-10-54fc44b346ae>\u001b[0m in \u001b[0;36minterdiction\u001b[1;34m(A, spd_A, B, spd_B)\u001b[0m\n\u001b[0;32m      2\u001b[0m     \u001b[0mbeta\u001b[0m \u001b[1;33m=\u001b[0m \u001b[1;36m270\u001b[0m\u001b[1;33m-\u001b[0m\u001b[0mA\u001b[0m\u001b[1;33m.\u001b[0m\u001b[0mbearing\u001b[0m\u001b[1;33m(\u001b[0m\u001b[0mB\u001b[0m\u001b[1;33m)\u001b[0m\u001b[1;33m\u001b[0m\u001b[1;33m\u001b[0m\u001b[0m\n\u001b[0;32m      3\u001b[0m     \u001b[1;31m# alpha is angle between bearing to target and course taken to interception point\u001b[0m\u001b[1;33m\u001b[0m\u001b[1;33m\u001b[0m\u001b[1;33m\u001b[0m\u001b[0m\n\u001b[1;32m----> 4\u001b[1;33m     \u001b[0malpha\u001b[0m          \u001b[1;33m=\u001b[0m \u001b[0mmath\u001b[0m\u001b[1;33m.\u001b[0m\u001b[0masin\u001b[0m\u001b[1;33m(\u001b[0m\u001b[1;33m(\u001b[0m\u001b[0mspd_B\u001b[0m\u001b[1;33m/\u001b[0m\u001b[0mspd_A\u001b[0m\u001b[1;33m)\u001b[0m\u001b[1;33m*\u001b[0m\u001b[0mmath\u001b[0m\u001b[1;33m.\u001b[0m\u001b[0msin\u001b[0m\u001b[1;33m(\u001b[0m\u001b[0mbeta\u001b[0m\u001b[1;33m)\u001b[0m\u001b[1;33m)\u001b[0m\u001b[1;33m*\u001b[0m\u001b[1;33m(\u001b[0m\u001b[1;36m180\u001b[0m\u001b[1;33m/\u001b[0m\u001b[0mmath\u001b[0m\u001b[1;33m.\u001b[0m\u001b[0mpi\u001b[0m\u001b[1;33m)\u001b[0m\u001b[1;33m\u001b[0m\u001b[1;33m\u001b[0m\u001b[0m\n\u001b[0m\u001b[0;32m      5\u001b[0m     \u001b[0mgamma\u001b[0m          \u001b[1;33m=\u001b[0m \u001b[1;36m180\u001b[0m \u001b[1;33m-\u001b[0m \u001b[0malpha\u001b[0m \u001b[1;33m-\u001b[0m \u001b[0mbeta\u001b[0m\u001b[1;33m\u001b[0m\u001b[1;33m\u001b[0m\u001b[0m\n\u001b[0;32m      6\u001b[0m     \u001b[0mD_t\u001b[0m            \u001b[1;33m=\u001b[0m \u001b[0mA\u001b[0m\u001b[1;33m.\u001b[0m\u001b[0mdist_to\u001b[0m\u001b[1;33m(\u001b[0m\u001b[0mB\u001b[0m\u001b[1;33m)\u001b[0m\u001b[1;33m\u001b[0m\u001b[1;33m\u001b[0m\u001b[0m\n",
      "\u001b[1;31mValueError\u001b[0m: math domain error"
     ]
    }
   ],
   "source": [
    "interdiction(A,spd_A,B,spd_B)"
   ]
  },
  {
   "cell_type": "code",
   "execution_count": 23,
   "metadata": {},
   "outputs": [],
   "source": [
    "# ruby command builder\n",
    "string1 = 'ruby cat.rb '\n",
    "string2 = 'Killed_Targets-'\n",
    "string3 = '.csv '\n",
    "string4 = str()\n",
    "\n",
    "i = 33\n",
    "while i < 67:\n",
    "    string4 = string4 + string2 + str(i) + string3\n",
    "    i += 1\n",
    "#print(string1 + string4)"
   ]
  },
  {
   "cell_type": "code",
   "execution_count": 27,
   "metadata": {},
   "outputs": [],
   "source": [
    "Killed_Targets_test = Killed_Targets.replace(0, np.nan)"
   ]
  },
  {
   "cell_type": "code",
   "execution_count": 32,
   "metadata": {},
   "outputs": [
    {
     "data": {
      "text/plain": [
       "<AxesSubplot:>"
      ]
     },
     "execution_count": 32,
     "metadata": {},
     "output_type": "execute_result"
    },
    {
     "data": {
      "image/png": "[encoded data removed]",
      "text/plain": [
       "<Figure size 432x288 with 1 Axes>"
      ]
     },
     "metadata": {
      "needs_background": "light"
     },
     "output_type": "display_data"
    }
   ],
   "source": [
    "Killed_Targets_test[Killed_Targets_test.columns[::2]].mean().cumsum().plot()\n"
   ]
  },
  {
   "cell_type": "code",
   "execution_count": 31,
   "metadata": {},
   "outputs": [
    {
     "data": {
      "text/plain": [
       "<AxesSubplot:>"
      ]
     },
     "execution_count": 31,
     "metadata": {},
     "output_type": "execute_result"
    },
    {
     "data": {
      "image/png": "[encoded data removed]",
      "text/plain": [
       "<Figure size 432x288 with 1 Axes>"
      ]
     },
     "metadata": {
      "needs_background": "light"
     },
     "output_type": "display_data"
    }
   ],
   "source": [
    "Killed_Targets_test[Killed_Targets_test.columns[1::2]].median().plot()"
   ]
  },
  {
   "cell_type": "code",
   "execution_count": 34,
   "metadata": {},
   "outputs": [],
   "source": [
    "Killed_Targets_test.to_csv('Killed_Targets.csv')"
   ]
  },
  {
   "cell_type": "code",
   "execution_count": null,
   "metadata": {},
   "outputs": [],
   "source": []
  }
 ],
 "metadata": {
  "kernelspec": {
   "display_name": "Python 3",
   "language": "python",
   "name": "python3"
  },
  "language_info": {
   "codemirror_mode": {
    "name": "ipython",
    "version": 3
   },
   "file_extension": ".py",
   "mimetype": "text/x-python",
   "name": "python",
   "nbconvert_exporter": "python",
   "pygments_lexer": "ipython3",
   "version": "3.8.5"
  }
 },
 "nbformat": 4,
 "nbformat_minor": 4
}
