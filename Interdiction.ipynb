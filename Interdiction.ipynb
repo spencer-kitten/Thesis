{
 "cells": [
  {
   "cell_type": "code",
   "execution_count": 1,
   "metadata": {},
   "outputs": [],
   "source": [
    "from RUN_2 import *"
   ]
  },
  {
   "cell_type": "code",
   "execution_count": 2,
   "metadata": {},
   "outputs": [],
   "source": [
    "job_num = 1\n",
    "n_targets = 0\n",
    "n_merchants = 0\n",
    "n_submarines = 5\n",
    "P_k = 0.005\n",
    "speed_sub = 16\n",
    "Lam_T = 0\n",
    "Lam_M = 10\n",
    "speed_target = 12\n",
    "seed = 1\n",
    "max_time = 1\n",
    "max_samples = 1\n",
    "plots = True\n",
    "gif = plots\n",
    "max_samples = 1\n",
    "days = 1e6/(60*60*24)"
   ]
  },
  {
   "cell_type": "code",
   "execution_count": 3,
   "metadata": {},
   "outputs": [
    {
     "name": "stderr",
     "output_type": "stream",
     "text": [
      "C:\\Users\\spenc\\Documents\\GitHub\\Thesis\\SubmarineINT.py:75: RuntimeWarning: divide by zero encountered in double_scalars\n",
      "  time_to_interdict = self.loc.dist_to(last_known_tgt_position)*np.sin(beta)/(np.sin(np.pi-alpha*np.pi/180-beta)*self.spd)\n"
     ]
    },
    {
     "name": "stdout",
     "output_type": "stream",
     "text": [
      "Run 1 complete\n"
     ]
    }
   ],
   "source": [
    "RUN(job_num, n_targets, n_merchants, n_submarines, seed, max_samples,speed_sub,P_k,Lam_T,Lam_M,speed_target,plots, gif)"
   ]
  },
  {
   "cell_type": "code",
   "execution_count": null,
   "metadata": {},
   "outputs": [],
   "source": []
  },
  {
   "cell_type": "code",
   "execution_count": null,
   "metadata": {},
   "outputs": [],
   "source": []
  },
  {
   "cell_type": "code",
   "execution_count": null,
   "metadata": {},
   "outputs": [],
   "source": []
  },
  {
   "cell_type": "code",
   "execution_count": null,
   "metadata": {},
   "outputs": [],
   "source": []
  }
 ],
 "metadata": {
  "kernelspec": {
   "display_name": "Python 3",
   "language": "python",
   "name": "python3"
  },
  "language_info": {
   "codemirror_mode": {
    "name": "ipython",
    "version": 3
   },
   "file_extension": ".py",
   "mimetype": "text/x-python",
   "name": "python",
   "nbconvert_exporter": "python",
   "pygments_lexer": "ipython3",
   "version": "3.8.5"
  }
 },
 "nbformat": 4,
 "nbformat_minor": 4
}
