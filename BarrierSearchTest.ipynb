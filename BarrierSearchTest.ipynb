{
 "cells": [
  {
   "cell_type": "code",
   "execution_count": 1,
   "metadata": {},
   "outputs": [],
   "source": [
    "import numpy as py\n",
    "import random as random\n",
    "import matplotlib.pyplot as plt\n",
    "import pandas as pd\n",
    "from scipy import stats\n",
    "from scipy.stats import t\n",
    "import math\n",
    "\n",
    "\n",
    "from Coord import *\n",
    "from Submarine import *\n",
    "from Merchant_Ship import Merchant_Ship"
   ]
  },
  {
   "cell_type": "code",
   "execution_count": 2,
   "metadata": {},
   "outputs": [],
   "source": [
    "t = py.linspace(0,100, num = 1000)"
   ]
  },
  {
   "cell_type": "code",
   "execution_count": 3,
   "metadata": {},
   "outputs": [],
   "source": [
    "def generate_objects(n_merch,n_tgts,n_subs,speed_sub):\n",
    "    '''Generates a requested number of merchants, targets, and submarines. Submarine speed may be specified.'''\n",
    "    \n",
    "    # Target name builder\n",
    "    tgt_name = 'Target_'\n",
    "    tgt_names = []\n",
    "    for i in range(1,n_tgts+1):\n",
    "        tgt_names.append(tgt_name + str(i))\n",
    "        \n",
    "    # Target builder\n",
    "    Targets = []\n",
    "    for i in tgt_names:\n",
    "        Targets.append(Merchant_Ship(i, Coord(random.uniform(0,100),random.uniform(0,100))))\n",
    "        \n",
    "    # Merchant name builder\n",
    "    merch_name = 'Merchant_'\n",
    "    merch_names = []\n",
    "    for i in range(1,n_merch+1):\n",
    "        merch_names.append(merch_name + str(i))\n",
    "        \n",
    "    # Merchant builder\n",
    "    Merchants = []\n",
    "    for j in merch_names:\n",
    "        Merchants.append(Merchant_Ship(j, Coord(random.uniform(0,100),random.uniform(0,100))))\n",
    "   \n",
    "    # Submarine name builder\n",
    "    sub_name = 'Hunter_'\n",
    "    sub_names = []\n",
    "    for i in range(1,n_subs+1):\n",
    "        sub_names.append(sub_name + str(i))\n",
    "        \n",
    "    # Submarine builder\n",
    "    Submarines = []\n",
    "    for i in sub_names:\n",
    "        Submarines.append(Submarine(Coord(random.uniform(0,100),100),crs = round(random.random())*180, spd = speed_sub))\n",
    "        \n",
    "    return Targets,Merchants,Submarines\n"
   ]
  },
  {
   "cell_type": "code",
   "execution_count": 4,
   "metadata": {},
   "outputs": [],
   "source": [
    "def contact_picture(tgt_list,merch_list,sub_list):\n",
    "    '''Plots contact picture'''\n",
    "    \n",
    "    # Targets \n",
    "    for item_t in tgt_list:\n",
    "        plt.plot(item_t.loc.lon,item_t.loc.lat, 'ro')\n",
    "        \n",
    "    # Merchants   \n",
    "    for item_m in merch_list:\n",
    "        plt.plot(item_m.loc.lon,item_m.loc.lat, 'bo')\n",
    "    \n",
    "    # Submarines\n",
    "    for item_s in sub_list:\n",
    "        plt.plot(item_s.loc.lon,item_s.loc.lat, 'go')\n",
    "\n",
    "    plt.xlim(0,200)\n",
    "    plt.ylim(0,100)"
   ]
  },
  {
   "cell_type": "code",
   "execution_count": 5,
   "metadata": {},
   "outputs": [],
   "source": [
    "#Targets, Merchants, Submarines = generate_objects(2,3,1)"
   ]
  },
  {
   "cell_type": "code",
   "execution_count": 6,
   "metadata": {},
   "outputs": [],
   "source": [
    "#contact_picture(Targets,Merchants,Submarines)"
   ]
  },
  {
   "cell_type": "code",
   "execution_count": 7,
   "metadata": {},
   "outputs": [],
   "source": [
    "def Simulator(n_targets,n_merchants,n_submarines,speed_sub,plotter = True):\n",
    "    '''Performs one simulation of a submarine tracking event'''\n",
    "    \n",
    "    # Generate enviroment objects\n",
    "    Targets, Merchants, Submarines = generate_objects(n_merchants,n_targets,n_submarines,speed_sub)\n",
    "    \n",
    "    # Working indexes\n",
    "    plotter_index = 0\n",
    "    max_timer = 0\n",
    "    \n",
    "    # Clear any existing plots\n",
    "    plt.clf()\n",
    "    \n",
    "    \n",
    "    while Submarines[0].loc.lon <= 200:\n",
    "        '''Simulate only as long as submarine is within boundary'''\n",
    "        \n",
    "        # Update postion of eviroment objects \n",
    "        target_list = Targets + Merchants\n",
    "        for item_m in Merchants:\n",
    "            item_m.update_position()\n",
    "\n",
    "        for item_t in Targets:\n",
    "            item_t.update_position()\n",
    "\n",
    "        for item_s in Submarines:\n",
    "            item_s.update_position()\n",
    "            item_s.ping(target_list)\n",
    "\n",
    "        plotter_index += 1\n",
    "\n",
    "        # Plotting only occurs once in 800 steps. Set to improve visual clarity and runtime\n",
    "        if plotter_index > 800:\n",
    "            plotter_index = 0\n",
    "            if plotter == True:\n",
    "                contact_picture(Targets,Merchants,Submarines)\n",
    "        \n",
    "        # Ensure if no detections occurs that simulation will halt\n",
    "        max_timer += 1\n",
    "        if max_timer > 1e5:\n",
    "            break\n",
    "\n",
    "    return Targets,Merchants,Submarines\n"
   ]
  },
  {
   "cell_type": "code",
   "execution_count": 29,
   "metadata": {},
   "outputs": [
    {
     "data": {
      "image/png": "[encoded data removed]",
      "text/plain": [
       "<Figure size 432x288 with 1 Axes>"
      ]
     },
     "metadata": {
      "needs_background": "light"
     },
     "output_type": "display_data"
    }
   ],
   "source": [
    "Targets, Merchants, Submarines = Simulator(0,1,1,16,True)"
   ]
  },
  {
   "cell_type": "code",
   "execution_count": 9,
   "metadata": {},
   "outputs": [
    {
     "data": {
      "text/plain": [
       "['Target_2']"
      ]
     },
     "execution_count": 9,
     "metadata": {},
     "output_type": "execute_result"
    }
   ],
   "source": [
    "Submarines[0].detected_before\n"
   ]
  },
  {
   "cell_type": "code",
   "execution_count": 10,
   "metadata": {},
   "outputs": [],
   "source": [
    "### Barrier test "
   ]
  },
  {
   "cell_type": "code",
   "execution_count": null,
   "metadata": {},
   "outputs": [
    {
     "name": "stdout",
     "output_type": "stream",
     "text": [
      "Row 0 done\n",
      "Row 1 done\n",
      "Row 2 done\n",
      "Row 3 done\n",
      "Row 4 done\n",
      "Row 5 done\n",
      "Row 6 done\n",
      "Row 7 done\n",
      "Row 8 done\n",
      "Row 9 done\n",
      "Row 10 done\n",
      "Row 11 done\n",
      "Row 12 done\n",
      "Row 13 done\n",
      "Row 14 done\n",
      "Row 15 done\n",
      "Row 16 done\n",
      "Row 17 done\n",
      "Row 18 done\n",
      "Row 19 done\n",
      "Row 20 done\n",
      "Row 21 done\n",
      "Row 22 done\n",
      "Row 23 done\n",
      "Row 24 done\n",
      "Row 25 done\n",
      "Row 26 done\n",
      "Row 27 done\n",
      "Row 28 done\n",
      "Row 29 done\n",
      "Row 30 done\n",
      "Row 31 done\n",
      "Row 32 done\n",
      "Row 33 done\n",
      "Row 34 done\n",
      "Row 35 done\n",
      "Row 36 done\n",
      "Row 37 done\n",
      "Row 38 done\n",
      "Row 39 done\n",
      "Row 40 done\n",
      "Row 41 done\n",
      "Row 42 done\n",
      "Row 43 done\n",
      "Row 44 done\n",
      "Row 45 done\n",
      "Row 46 done\n",
      "Row 47 done\n",
      "Row 48 done\n",
      "Row 49 done\n",
      "Row 50 done\n",
      "Row 51 done\n",
      "Row 52 done\n",
      "Row 53 done\n",
      "Row 54 done\n",
      "Row 55 done\n",
      "Row 56 done\n",
      "Row 57 done\n",
      "Row 58 done\n",
      "Row 59 done\n",
      "Row 60 done\n",
      "Row 61 done\n",
      "Row 62 done\n",
      "Row 63 done\n",
      "Row 64 done\n",
      "Row 65 done\n",
      "Row 66 done\n",
      "Row 67 done\n",
      "Row 68 done\n",
      "Row 69 done\n",
      "Row 70 done\n",
      "Row 71 done\n",
      "Row 72 done\n",
      "Row 73 done\n",
      "Row 74 done\n",
      "Row 75 done\n",
      "Row 76 done\n",
      "Row 77 done\n",
      "Row 78 done\n",
      "Row 79 done\n",
      "Row 80 done\n",
      "Row 81 done\n",
      "Row 82 done\n",
      "Row 83 done\n",
      "Row 84 done\n",
      "Row 85 done\n",
      "Row 86 done\n",
      "Row 87 done\n",
      "Row 88 done\n"
     ]
    }
   ],
   "source": [
    "# Loops created to run nreps of a simulation for each max_speed/nreps increment and count detections.\n",
    "# For use in evaluating performance with respect to existing models. \n",
    "\n",
    "nreps = 500\n",
    "dspeed = 30\n",
    "max_speed = 30\n",
    "speed = 0\n",
    "\n",
    "Detection_History = []\n",
    "for item in range (0,nreps):\n",
    "    Detection_History.append([0]*nreps)\n",
    "\n",
    "for i in range(0,nreps):\n",
    "    for j in range(0,nreps):\n",
    "        Targets, Merchants, Submarines = Simulator(1,0,1,speed,False)\n",
    "        test = Submarines[0].detected_before\n",
    "        if len(test) > 0:\n",
    "            Detection_History[i][j] = 1\n",
    "        else:\n",
    "            Detection_History[i][j] = 0\n",
    "    speed += max_speed/nreps\n",
    "    print('Row %d done' % (i))"
   ]
  },
  {
   "cell_type": "code",
   "execution_count": null,
   "metadata": {},
   "outputs": [],
   "source": [
    "Detection_History = pd.DataFrame(Detection_History)"
   ]
  },
  {
   "cell_type": "code",
   "execution_count": null,
   "metadata": {},
   "outputs": [],
   "source": [
    "Detection_History.sum(axis = 1).plot()\n",
    "\n"
   ]
  },
  {
   "cell_type": "code",
   "execution_count": null,
   "metadata": {},
   "outputs": [],
   "source": []
  },
  {
   "cell_type": "code",
   "execution_count": null,
   "metadata": {},
   "outputs": [],
   "source": [
    "Detection_History.to_csv('tests1.csv')"
   ]
  },
  {
   "cell_type": "code",
   "execution_count": null,
   "metadata": {},
   "outputs": [],
   "source": [
    "#### ignore the next few lines"
   ]
  },
  {
   "cell_type": "code",
   "execution_count": null,
   "metadata": {},
   "outputs": [],
   "source": [
    "#T = Detection_History.sum(axis = 1)/nreps"
   ]
  },
  {
   "cell_type": "code",
   "execution_count": null,
   "metadata": {},
   "outputs": [],
   "source": [
    "#Tstd = Detection_History.std(axis =1)"
   ]
  },
  {
   "cell_type": "code",
   "execution_count": null,
   "metadata": {},
   "outputs": [],
   "source": [
    "#lower_cutoff = t.ppf(0.025, 500 - 1, loc = T, scale = Tstd)"
   ]
  },
  {
   "cell_type": "code",
   "execution_count": null,
   "metadata": {},
   "outputs": [],
   "source": [
    "#lc = pd.DataFrame(lower_cutoff)"
   ]
  },
  {
   "cell_type": "code",
   "execution_count": null,
   "metadata": {},
   "outputs": [],
   "source": [
    "#### unignore "
   ]
  },
  {
   "cell_type": "code",
   "execution_count": null,
   "metadata": {},
   "outputs": [],
   "source": [
    "def Wagner(v, L=100,R=20,u=16):\n",
    "    '''Function to plot Wagner et al 1999 barrier search detection probability'''\n",
    "    \n",
    "    if R*v <= u*math.sqrt(L*(L-2*R)**2):\n",
    "        P_d = 1 - ((L/R - math.sqrt((v/u)**2 + 1)-1)**2)*((R**2)/(L*(L-2*R)))\n",
    "    else:\n",
    "        P_d = 1\n",
    "        \n",
    "    return P_d\n",
    "    "
   ]
  },
  {
   "cell_type": "code",
   "execution_count": null,
   "metadata": {},
   "outputs": [],
   "source": [
    "def Sozen(v, L=100,R=20,u=16):\n",
    "    '''Function to plot Sozen et al 2016 barrier search detection probability'''\n",
    "    if (R*v**2)/((L-2*R)*u*math.sqrt(u**2 + v**2)) < 1:\n",
    "        P_d = 2*R*math.sqrt((v/u)**2 + 1)/L + (R**2)*v*(math.pi/2 - math.atan(u/(v+0.001)) - v/u)/((L-2*R)*u*L)\n",
    "    else:\n",
    "        P_d = 1 + (R**2)*v*math.asin((L-2*R)*u/(R*v))/((L-2*R)*u*L) - 2*R/L + math.sqrt((R**2)*(v**2) - ((L-2*R)**2)*(u**2))/(L*v)\n",
    "    \n",
    "    return P_d"
   ]
  },
  {
   "cell_type": "code",
   "execution_count": null,
   "metadata": {},
   "outputs": [],
   "source": [
    "T = Detection_History.sum(axis = 1)/nreps\n",
    "T = T.to_frame()\n",
    "T['Speed'] = py.linspace(0,max_speed,num = nreps)"
   ]
  },
  {
   "cell_type": "code",
   "execution_count": null,
   "metadata": {},
   "outputs": [],
   "source": [
    "T['Wagner'] = T['Speed'].apply(Wagner)\n",
    "T['Sozen'] = T['Speed'].apply(Sozen)"
   ]
  },
  {
   "cell_type": "code",
   "execution_count": null,
   "metadata": {},
   "outputs": [],
   "source": [
    "T = T.rename(columns = {0: 'P_d'})"
   ]
  },
  {
   "cell_type": "code",
   "execution_count": null,
   "metadata": {},
   "outputs": [],
   "source": [
    "T.plot(x = 'Speed')"
   ]
  },
  {
   "cell_type": "code",
   "execution_count": null,
   "metadata": {},
   "outputs": [],
   "source": []
  }
 ],
 "metadata": {
  "kernelspec": {
   "display_name": "Python 3",
   "language": "python",
   "name": "python3"
  },
  "language_info": {
   "codemirror_mode": {
    "name": "ipython",
    "version": 3
   },
   "file_extension": ".py",
   "mimetype": "text/x-python",
   "name": "python",
   "nbconvert_exporter": "python",
   "pygments_lexer": "ipython3",
   "version": "3.8.5"
  }
 },
 "nbformat": 4,
 "nbformat_minor": 4
}
