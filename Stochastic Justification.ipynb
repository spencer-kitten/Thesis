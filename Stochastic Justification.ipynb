{
 "cells": [
  {
   "cell_type": "code",
   "execution_count": 1,
   "metadata": {},
   "outputs": [],
   "source": [
    "from RUN_2 import *"
   ]
  },
  {
   "cell_type": "code",
   "execution_count": 5,
   "metadata": {},
   "outputs": [],
   "source": [
    "job_num = 5\n",
    "n_targets = 0\n",
    "n_merchants = 0\n",
    "n_submarines = 1\n",
    "P_k = 0.5\n",
    "speed_sub = 16\n",
    "Lam_T = 10\n",
    "Lam_M = 10\n",
    "speed_target = 12\n",
    "seed = job_num\n",
    "max_time = 1\n",
    "max_samples = 1\n",
    "plots = True\n",
    "gif = plots\n",
    "max_samples = 1\n",
    "days = 1e6/(60*60*24)"
   ]
  },
  {
   "cell_type": "code",
   "execution_count": 6,
   "metadata": {},
   "outputs": [
    {
     "name": "stdout",
     "output_type": "stream",
     "text": [
      "Run 1 complete\n"
     ]
    }
   ],
   "source": [
    "RUN(job_num, n_targets, n_merchants, n_submarines, seed, max_samples,speed_sub,P_k,Lam_T,Lam_M,speed_target,plots, gif)"
   ]
  },
  {
   "cell_type": "code",
   "execution_count": 4,
   "metadata": {},
   "outputs": [],
   "source": [
    "#for i in range(6,31):\n",
    "    #RUN(i, n_targets, n_merchants, n_submarines, seed, max_samples,speed_sub,P_k,Lam_T,Lam_M,speed_target,plots, gif)"
   ]
  },
  {
   "cell_type": "code",
   "execution_count": null,
   "metadata": {},
   "outputs": [],
   "source": []
  }
 ],
 "metadata": {
  "kernelspec": {
   "display_name": "Python 3",
   "language": "python",
   "name": "python3"
  },
  "language_info": {
   "codemirror_mode": {
    "name": "ipython",
    "version": 3
   },
   "file_extension": ".py",
   "mimetype": "text/x-python",
   "name": "python",
   "nbconvert_exporter": "python",
   "pygments_lexer": "ipython3",
   "version": "3.8.5"
  }
 },
 "nbformat": 4,
 "nbformat_minor": 4
}
